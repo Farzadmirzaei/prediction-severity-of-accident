{
 "cells": [
  {
   "cell_type": "code",
   "execution_count": 1,
   "id": "1999cd40",
   "metadata": {},
   "outputs": [],
   "source": [
    "import pandas as pd\n",
    "import numpy as np\n",
    "import matplotlib.pyplot as plt\n",
    "import seaborn as sns\n",
    "import seaborn as sns\n",
    "%matplotlib inline\n",
    "pd.set_option('display.max_rows', 200)\n",
    "pd.set_option('display.max_columns', 200)\n",
    "plt.style.use('ggplot')"
   ]
  },
  {
   "cell_type": "code",
   "execution_count": 2,
   "id": "bb60df67",
   "metadata": {},
   "outputs": [],
   "source": [
    "accident_df = pd.read_excel('cahr2.xlsx', engine='openpyxl')"
   ]
  },
  {
   "cell_type": "code",
   "execution_count": 3,
   "id": "6e0c2d21",
   "metadata": {},
   "outputs": [
    {
     "data": {
      "text/html": [
       "<div>\n",
       "<style scoped>\n",
       "    .dataframe tbody tr th:only-of-type {\n",
       "        vertical-align: middle;\n",
       "    }\n",
       "\n",
       "    .dataframe tbody tr th {\n",
       "        vertical-align: top;\n",
       "    }\n",
       "\n",
       "    .dataframe thead th {\n",
       "        text-align: right;\n",
       "    }\n",
       "</style>\n",
       "<table border=\"1\" class=\"dataframe\">\n",
       "  <thead>\n",
       "    <tr style=\"text-align: right;\">\n",
       "      <th></th>\n",
       "      <th>cause</th>\n",
       "      <th>place</th>\n",
       "      <th>collision</th>\n",
       "      <th>season</th>\n",
       "      <th>acc_time</th>\n",
       "      <th>severity</th>\n",
       "    </tr>\n",
       "  </thead>\n",
       "  <tbody>\n",
       "    <tr>\n",
       "      <th>0</th>\n",
       "      <td>6</td>\n",
       "      <td>1</td>\n",
       "      <td>5</td>\n",
       "      <td>1</td>\n",
       "      <td>4</td>\n",
       "      <td>2</td>\n",
       "    </tr>\n",
       "    <tr>\n",
       "      <th>1</th>\n",
       "      <td>8</td>\n",
       "      <td>1</td>\n",
       "      <td>1</td>\n",
       "      <td>1</td>\n",
       "      <td>4</td>\n",
       "      <td>2</td>\n",
       "    </tr>\n",
       "    <tr>\n",
       "      <th>2</th>\n",
       "      <td>8</td>\n",
       "      <td>1</td>\n",
       "      <td>5</td>\n",
       "      <td>1</td>\n",
       "      <td>4</td>\n",
       "      <td>2</td>\n",
       "    </tr>\n",
       "    <tr>\n",
       "      <th>3</th>\n",
       "      <td>8</td>\n",
       "      <td>1</td>\n",
       "      <td>1</td>\n",
       "      <td>1</td>\n",
       "      <td>4</td>\n",
       "      <td>2</td>\n",
       "    </tr>\n",
       "    <tr>\n",
       "      <th>4</th>\n",
       "      <td>8</td>\n",
       "      <td>1</td>\n",
       "      <td>1</td>\n",
       "      <td>1</td>\n",
       "      <td>4</td>\n",
       "      <td>2</td>\n",
       "    </tr>\n",
       "    <tr>\n",
       "      <th>...</th>\n",
       "      <td>...</td>\n",
       "      <td>...</td>\n",
       "      <td>...</td>\n",
       "      <td>...</td>\n",
       "      <td>...</td>\n",
       "      <td>...</td>\n",
       "    </tr>\n",
       "    <tr>\n",
       "      <th>4149</th>\n",
       "      <td>1</td>\n",
       "      <td>1</td>\n",
       "      <td>5</td>\n",
       "      <td>3</td>\n",
       "      <td>1</td>\n",
       "      <td>2</td>\n",
       "    </tr>\n",
       "    <tr>\n",
       "      <th>4150</th>\n",
       "      <td>1</td>\n",
       "      <td>1</td>\n",
       "      <td>1</td>\n",
       "      <td>3</td>\n",
       "      <td>1</td>\n",
       "      <td>2</td>\n",
       "    </tr>\n",
       "    <tr>\n",
       "      <th>4151</th>\n",
       "      <td>3</td>\n",
       "      <td>1</td>\n",
       "      <td>1</td>\n",
       "      <td>3</td>\n",
       "      <td>1</td>\n",
       "      <td>2</td>\n",
       "    </tr>\n",
       "    <tr>\n",
       "      <th>4152</th>\n",
       "      <td>2</td>\n",
       "      <td>1</td>\n",
       "      <td>1</td>\n",
       "      <td>3</td>\n",
       "      <td>1</td>\n",
       "      <td>1</td>\n",
       "    </tr>\n",
       "    <tr>\n",
       "      <th>4153</th>\n",
       "      <td>8</td>\n",
       "      <td>1</td>\n",
       "      <td>1</td>\n",
       "      <td>3</td>\n",
       "      <td>1</td>\n",
       "      <td>2</td>\n",
       "    </tr>\n",
       "  </tbody>\n",
       "</table>\n",
       "<p>4154 rows × 6 columns</p>\n",
       "</div>"
      ],
      "text/plain": [
       "      cause  place  collision  season  acc_time  severity\n",
       "0         6      1          5       1         4         2\n",
       "1         8      1          1       1         4         2\n",
       "2         8      1          5       1         4         2\n",
       "3         8      1          1       1         4         2\n",
       "4         8      1          1       1         4         2\n",
       "...     ...    ...        ...     ...       ...       ...\n",
       "4149      1      1          5       3         1         2\n",
       "4150      1      1          1       3         1         2\n",
       "4151      3      1          1       3         1         2\n",
       "4152      2      1          1       3         1         1\n",
       "4153      8      1          1       3         1         2\n",
       "\n",
       "[4154 rows x 6 columns]"
      ]
     },
     "execution_count": 3,
     "metadata": {},
     "output_type": "execute_result"
    }
   ],
   "source": [
    "accident_df\n"
   ]
  },
  {
   "cell_type": "code",
   "execution_count": 4,
   "id": "9e704025",
   "metadata": {
    "scrolled": true
   },
   "outputs": [],
   "source": [
    "X = accident_df.drop(['severity'], axis=1)"
   ]
  },
  {
   "cell_type": "code",
   "execution_count": 5,
   "id": "cfdb654c",
   "metadata": {},
   "outputs": [
    {
     "data": {
      "text/html": [
       "<div>\n",
       "<style scoped>\n",
       "    .dataframe tbody tr th:only-of-type {\n",
       "        vertical-align: middle;\n",
       "    }\n",
       "\n",
       "    .dataframe tbody tr th {\n",
       "        vertical-align: top;\n",
       "    }\n",
       "\n",
       "    .dataframe thead th {\n",
       "        text-align: right;\n",
       "    }\n",
       "</style>\n",
       "<table border=\"1\" class=\"dataframe\">\n",
       "  <thead>\n",
       "    <tr style=\"text-align: right;\">\n",
       "      <th></th>\n",
       "      <th>cause</th>\n",
       "      <th>place</th>\n",
       "      <th>collision</th>\n",
       "      <th>season</th>\n",
       "      <th>acc_time</th>\n",
       "    </tr>\n",
       "  </thead>\n",
       "  <tbody>\n",
       "    <tr>\n",
       "      <th>0</th>\n",
       "      <td>6</td>\n",
       "      <td>1</td>\n",
       "      <td>5</td>\n",
       "      <td>1</td>\n",
       "      <td>4</td>\n",
       "    </tr>\n",
       "    <tr>\n",
       "      <th>1</th>\n",
       "      <td>8</td>\n",
       "      <td>1</td>\n",
       "      <td>1</td>\n",
       "      <td>1</td>\n",
       "      <td>4</td>\n",
       "    </tr>\n",
       "    <tr>\n",
       "      <th>2</th>\n",
       "      <td>8</td>\n",
       "      <td>1</td>\n",
       "      <td>5</td>\n",
       "      <td>1</td>\n",
       "      <td>4</td>\n",
       "    </tr>\n",
       "    <tr>\n",
       "      <th>3</th>\n",
       "      <td>8</td>\n",
       "      <td>1</td>\n",
       "      <td>1</td>\n",
       "      <td>1</td>\n",
       "      <td>4</td>\n",
       "    </tr>\n",
       "    <tr>\n",
       "      <th>4</th>\n",
       "      <td>8</td>\n",
       "      <td>1</td>\n",
       "      <td>1</td>\n",
       "      <td>1</td>\n",
       "      <td>4</td>\n",
       "    </tr>\n",
       "    <tr>\n",
       "      <th>...</th>\n",
       "      <td>...</td>\n",
       "      <td>...</td>\n",
       "      <td>...</td>\n",
       "      <td>...</td>\n",
       "      <td>...</td>\n",
       "    </tr>\n",
       "    <tr>\n",
       "      <th>4149</th>\n",
       "      <td>1</td>\n",
       "      <td>1</td>\n",
       "      <td>5</td>\n",
       "      <td>3</td>\n",
       "      <td>1</td>\n",
       "    </tr>\n",
       "    <tr>\n",
       "      <th>4150</th>\n",
       "      <td>1</td>\n",
       "      <td>1</td>\n",
       "      <td>1</td>\n",
       "      <td>3</td>\n",
       "      <td>1</td>\n",
       "    </tr>\n",
       "    <tr>\n",
       "      <th>4151</th>\n",
       "      <td>3</td>\n",
       "      <td>1</td>\n",
       "      <td>1</td>\n",
       "      <td>3</td>\n",
       "      <td>1</td>\n",
       "    </tr>\n",
       "    <tr>\n",
       "      <th>4152</th>\n",
       "      <td>2</td>\n",
       "      <td>1</td>\n",
       "      <td>1</td>\n",
       "      <td>3</td>\n",
       "      <td>1</td>\n",
       "    </tr>\n",
       "    <tr>\n",
       "      <th>4153</th>\n",
       "      <td>8</td>\n",
       "      <td>1</td>\n",
       "      <td>1</td>\n",
       "      <td>3</td>\n",
       "      <td>1</td>\n",
       "    </tr>\n",
       "  </tbody>\n",
       "</table>\n",
       "<p>4154 rows × 5 columns</p>\n",
       "</div>"
      ],
      "text/plain": [
       "      cause  place  collision  season  acc_time\n",
       "0         6      1          5       1         4\n",
       "1         8      1          1       1         4\n",
       "2         8      1          5       1         4\n",
       "3         8      1          1       1         4\n",
       "4         8      1          1       1         4\n",
       "...     ...    ...        ...     ...       ...\n",
       "4149      1      1          5       3         1\n",
       "4150      1      1          1       3         1\n",
       "4151      3      1          1       3         1\n",
       "4152      2      1          1       3         1\n",
       "4153      8      1          1       3         1\n",
       "\n",
       "[4154 rows x 5 columns]"
      ]
     },
     "execution_count": 5,
     "metadata": {},
     "output_type": "execute_result"
    }
   ],
   "source": [
    "X"
   ]
  },
  {
   "cell_type": "code",
   "execution_count": 6,
   "id": "164297ee",
   "metadata": {},
   "outputs": [],
   "source": [
    "y = accident_df['severity']"
   ]
  },
  {
   "cell_type": "code",
   "execution_count": 7,
   "id": "3aa6035b",
   "metadata": {},
   "outputs": [
    {
     "data": {
      "text/plain": [
       "(4154, 5)"
      ]
     },
     "execution_count": 7,
     "metadata": {},
     "output_type": "execute_result"
    }
   ],
   "source": [
    "X.shape\n"
   ]
  },
  {
   "cell_type": "code",
   "execution_count": 8,
   "id": "b0a2dc12",
   "metadata": {},
   "outputs": [
    {
     "data": {
      "text/plain": [
       "(4154,)"
      ]
     },
     "execution_count": 8,
     "metadata": {},
     "output_type": "execute_result"
    }
   ],
   "source": [
    "y.shape\n"
   ]
  },
  {
   "cell_type": "code",
   "execution_count": 9,
   "id": "205cab5d",
   "metadata": {},
   "outputs": [],
   "source": [
    "from sklearn.preprocessing import MinMaxScaler\n",
    "scaler = MinMaxScaler()\n",
    "X_scaled = scaler.fit_transform(X)"
   ]
  },
  {
   "cell_type": "code",
   "execution_count": 10,
   "id": "2879b59f",
   "metadata": {
    "scrolled": true
   },
   "outputs": [
    {
     "data": {
      "text/plain": [
       "array([[0.625     , 0.        , 0.8       , 0.        , 1.        ],\n",
       "       [0.875     , 0.        , 0.        , 0.        , 1.        ],\n",
       "       [0.875     , 0.        , 0.8       , 0.        , 1.        ],\n",
       "       ...,\n",
       "       [0.25      , 0.        , 0.        , 0.66666667, 0.        ],\n",
       "       [0.125     , 0.        , 0.        , 0.66666667, 0.        ],\n",
       "       [0.875     , 0.        , 0.        , 0.66666667, 0.        ]])"
      ]
     },
     "execution_count": 10,
     "metadata": {},
     "output_type": "execute_result"
    }
   ],
   "source": [
    "X_scaled"
   ]
  },
  {
   "cell_type": "code",
   "execution_count": 13,
   "id": "aa3ff331",
   "metadata": {},
   "outputs": [],
   "source": [
    "y= y.values.reshape(-1,1)"
   ]
  },
  {
   "cell_type": "code",
   "execution_count": 14,
   "id": "e7bf9b8b",
   "metadata": {},
   "outputs": [],
   "source": [
    "y_scaled = scaler.fit_transform(y)"
   ]
  },
  {
   "cell_type": "code",
   "execution_count": 15,
   "id": "b1b3422f",
   "metadata": {},
   "outputs": [
    {
     "data": {
      "text/plain": [
       "array([[0.5],\n",
       "       [0.5],\n",
       "       [0.5],\n",
       "       ...,\n",
       "       [0.5],\n",
       "       [0. ],\n",
       "       [0.5]])"
      ]
     },
     "execution_count": 15,
     "metadata": {},
     "output_type": "execute_result"
    }
   ],
   "source": [
    "y_scaled"
   ]
  },
  {
   "cell_type": "code",
   "execution_count": 16,
   "id": "26175015",
   "metadata": {},
   "outputs": [
    {
     "data": {
      "text/plain": [
       "array([2, 1, 3], dtype=int64)"
      ]
     },
     "execution_count": 16,
     "metadata": {},
     "output_type": "execute_result"
    }
   ],
   "source": [
    "accident_df['severity'].unique()"
   ]
  },
  {
   "cell_type": "code",
   "execution_count": 17,
   "id": "486b9516",
   "metadata": {},
   "outputs": [
    {
     "data": {
      "text/plain": [
       "(4154, 5)"
      ]
     },
     "execution_count": 17,
     "metadata": {},
     "output_type": "execute_result"
    }
   ],
   "source": [
    "X_scaled.shape"
   ]
  },
  {
   "cell_type": "code",
   "execution_count": 18,
   "id": "dc4f2e1c",
   "metadata": {},
   "outputs": [],
   "source": [
    "from sklearn.model_selection import train_test_split\n",
    "X_train, X_test, y_train, y_test = train_test_split(X_scaled, y_scaled, test_size= 0.25, random_state=120)"
   ]
  },
  {
   "cell_type": "code",
   "execution_count": 19,
   "id": "01c05ce9",
   "metadata": {},
   "outputs": [
    {
     "data": {
      "text/plain": [
       "(3115, 5)"
      ]
     },
     "execution_count": 19,
     "metadata": {},
     "output_type": "execute_result"
    }
   ],
   "source": [
    "X_train.shape\n"
   ]
  },
  {
   "cell_type": "code",
   "execution_count": 20,
   "id": "25b29fa2",
   "metadata": {},
   "outputs": [
    {
     "name": "stdout",
     "output_type": "stream",
     "text": [
      "WARNING:tensorflow:From C:\\Users\\Farzad\\AppData\\Roaming\\Python\\Python310\\site-packages\\keras\\src\\losses.py:2976: The name tf.losses.sparse_softmax_cross_entropy is deprecated. Please use tf.compat.v1.losses.sparse_softmax_cross_entropy instead.\n",
      "\n"
     ]
    }
   ],
   "source": [
    "import tensorflow\n",
    "y_train = tensorflow.keras.utils.to_categorical(y_train, 3)\n",
    "y_test = tensorflow.keras.utils.to_categorical(y_test, 3)"
   ]
  },
  {
   "cell_type": "code",
   "execution_count": 21,
   "id": "663d7996",
   "metadata": {},
   "outputs": [
    {
     "name": "stdout",
     "output_type": "stream",
     "text": [
      "WARNING:tensorflow:From C:\\Users\\Farzad\\AppData\\Roaming\\Python\\Python310\\site-packages\\keras\\src\\backend.py:873: The name tf.get_default_graph is deprecated. Please use tf.compat.v1.get_default_graph instead.\n",
      "\n",
      "Model: \"sequential\"\n",
      "_________________________________________________________________\n",
      " Layer (type)                Output Shape              Param #   \n",
      "=================================================================\n",
      " dense (Dense)               (None, 64)                384       \n",
      "                                                                 \n",
      " dense_1 (Dense)             (None, 64)                4160      \n",
      "                                                                 \n",
      " dense_2 (Dense)             (None, 64)                4160      \n",
      "                                                                 \n",
      " dense_3 (Dense)             (None, 16)                1040      \n",
      "                                                                 \n",
      " dense_4 (Dense)             (None, 2)                 34        \n",
      "                                                                 \n",
      " dense_5 (Dense)             (None, 3)                 9         \n",
      "                                                                 \n",
      "=================================================================\n",
      "Total params: 9787 (38.23 KB)\n",
      "Trainable params: 9787 (38.23 KB)\n",
      "Non-trainable params: 0 (0.00 Byte)\n",
      "_________________________________________________________________\n"
     ]
    }
   ],
   "source": [
    "import tensorflow\n",
    "from tensorflow import keras\n",
    "from keras.models import Sequential\n",
    "from keras.layers import Dense\n",
    "from sklearn.preprocessing import MinMaxScaler\n",
    "\n",
    "model = Sequential()\n",
    "model.add(Dense(64, input_dim=5, activation='relu'))\n",
    "model.add(Dense(64, activation='relu'))\n",
    "model.add(Dense(64, activation='relu'))\n",
    "model.add(Dense(16, activation='relu'))\n",
    "model.add(Dense(2, activation='relu'))\n",
    "\n",
    "model.add(tensorflow.keras.layers.Dense(3, activation='softmax'))\n",
    "model.summary()"
   ]
  },
  {
   "cell_type": "code",
   "execution_count": 22,
   "id": "f97240b8",
   "metadata": {},
   "outputs": [],
   "source": [
    "import tensorflow \n",
    "import keras\n",
    "from keras.models import Sequential\n",
    "from keras.layers import Dense, Dropout"
   ]
  },
  {
   "cell_type": "code",
   "execution_count": 23,
   "id": "d715a103",
   "metadata": {},
   "outputs": [
    {
     "name": "stdout",
     "output_type": "stream",
     "text": [
      "WARNING:tensorflow:From C:\\Users\\Farzad\\AppData\\Roaming\\Python\\Python310\\site-packages\\keras\\src\\optimizers\\__init__.py:309: The name tf.train.Optimizer is deprecated. Please use tf.compat.v1.train.Optimizer instead.\n",
      "\n"
     ]
    }
   ],
   "source": [
    "\n",
    "model.compile(optimizer='adam', loss='mean_squared_error', metrics = ['accuracy'])\n"
   ]
  },
  {
   "cell_type": "code",
   "execution_count": 24,
   "id": "afff8384",
   "metadata": {
    "scrolled": true
   },
   "outputs": [
    {
     "name": "stdout",
     "output_type": "stream",
     "text": [
      "Epoch 1/80\n",
      "WARNING:tensorflow:From C:\\Users\\Farzad\\AppData\\Roaming\\Python\\Python310\\site-packages\\keras\\src\\utils\\tf_utils.py:492: The name tf.ragged.RaggedTensorValue is deprecated. Please use tf.compat.v1.ragged.RaggedTensorValue instead.\n",
      "\n",
      "WARNING:tensorflow:From C:\\Users\\Farzad\\AppData\\Roaming\\Python\\Python310\\site-packages\\keras\\src\\engine\\base_layer_utils.py:384: The name tf.executing_eagerly_outside_functions is deprecated. Please use tf.compat.v1.executing_eagerly_outside_functions instead.\n",
      "\n",
      "156/156 [==============================] - 1s 3ms/step - loss: 0.1340 - accuracy: 0.7197 - val_loss: 0.1196 - val_accuracy: 0.7479\n",
      "Epoch 2/80\n",
      "156/156 [==============================] - 0s 2ms/step - loss: 0.1169 - accuracy: 0.7454 - val_loss: 0.1117 - val_accuracy: 0.7585\n",
      "Epoch 3/80\n",
      "156/156 [==============================] - 0s 2ms/step - loss: 0.1098 - accuracy: 0.7684 - val_loss: 0.1072 - val_accuracy: 0.7479\n",
      "Epoch 4/80\n",
      "156/156 [==============================] - 0s 2ms/step - loss: 0.1057 - accuracy: 0.7699 - val_loss: 0.1041 - val_accuracy: 0.7756\n",
      "Epoch 5/80\n",
      "156/156 [==============================] - 0s 2ms/step - loss: 0.1024 - accuracy: 0.7752 - val_loss: 0.1007 - val_accuracy: 0.7735\n",
      "Epoch 6/80\n",
      "156/156 [==============================] - 0s 2ms/step - loss: 0.0998 - accuracy: 0.7786 - val_loss: 0.0995 - val_accuracy: 0.7671\n",
      "Epoch 7/80\n",
      "156/156 [==============================] - 0s 2ms/step - loss: 0.0970 - accuracy: 0.7873 - val_loss: 0.0971 - val_accuracy: 0.7692\n",
      "Epoch 8/80\n",
      "156/156 [==============================] - 0s 2ms/step - loss: 0.0957 - accuracy: 0.7941 - val_loss: 0.0988 - val_accuracy: 0.7842\n",
      "Epoch 9/80\n",
      "156/156 [==============================] - 0s 2ms/step - loss: 0.0940 - accuracy: 0.7918 - val_loss: 0.1030 - val_accuracy: 0.7692\n",
      "Epoch 10/80\n",
      "156/156 [==============================] - 0s 2ms/step - loss: 0.0928 - accuracy: 0.7934 - val_loss: 0.0935 - val_accuracy: 0.7863\n",
      "Epoch 11/80\n",
      "156/156 [==============================] - 0s 2ms/step - loss: 0.0912 - accuracy: 0.7968 - val_loss: 0.0941 - val_accuracy: 0.7927\n",
      "Epoch 12/80\n",
      "156/156 [==============================] - 0s 2ms/step - loss: 0.0910 - accuracy: 0.8005 - val_loss: 0.0948 - val_accuracy: 0.7799\n",
      "Epoch 13/80\n",
      "156/156 [==============================] - 0s 2ms/step - loss: 0.0899 - accuracy: 0.8017 - val_loss: 0.0954 - val_accuracy: 0.7842\n",
      "Epoch 14/80\n",
      "156/156 [==============================] - 0s 2ms/step - loss: 0.0892 - accuracy: 0.8032 - val_loss: 0.1027 - val_accuracy: 0.7500\n",
      "Epoch 15/80\n",
      "156/156 [==============================] - 0s 2ms/step - loss: 0.0893 - accuracy: 0.7990 - val_loss: 0.0923 - val_accuracy: 0.7756\n",
      "Epoch 16/80\n",
      "156/156 [==============================] - 0s 2ms/step - loss: 0.0893 - accuracy: 0.8017 - val_loss: 0.0914 - val_accuracy: 0.7991\n",
      "Epoch 17/80\n",
      "156/156 [==============================] - 0s 2ms/step - loss: 0.0881 - accuracy: 0.8002 - val_loss: 0.0962 - val_accuracy: 0.7885\n",
      "Epoch 18/80\n",
      "156/156 [==============================] - 0s 2ms/step - loss: 0.0883 - accuracy: 0.8062 - val_loss: 0.0912 - val_accuracy: 0.7906\n",
      "Epoch 19/80\n",
      "156/156 [==============================] - 0s 2ms/step - loss: 0.0874 - accuracy: 0.8073 - val_loss: 0.0950 - val_accuracy: 0.7821\n",
      "Epoch 20/80\n",
      "156/156 [==============================] - 0s 2ms/step - loss: 0.0873 - accuracy: 0.8081 - val_loss: 0.0914 - val_accuracy: 0.7906\n",
      "Epoch 21/80\n",
      "156/156 [==============================] - 0s 2ms/step - loss: 0.0867 - accuracy: 0.8036 - val_loss: 0.0904 - val_accuracy: 0.7991\n",
      "Epoch 22/80\n",
      "156/156 [==============================] - 0s 2ms/step - loss: 0.0868 - accuracy: 0.8051 - val_loss: 0.0929 - val_accuracy: 0.7927\n",
      "Epoch 23/80\n",
      "156/156 [==============================] - 0s 2ms/step - loss: 0.0872 - accuracy: 0.8054 - val_loss: 0.0994 - val_accuracy: 0.7778\n",
      "Epoch 24/80\n",
      "156/156 [==============================] - 0s 2ms/step - loss: 0.0873 - accuracy: 0.8028 - val_loss: 0.0956 - val_accuracy: 0.7842\n",
      "Epoch 25/80\n",
      "156/156 [==============================] - 0s 2ms/step - loss: 0.0869 - accuracy: 0.8070 - val_loss: 0.0919 - val_accuracy: 0.7949\n",
      "Epoch 26/80\n",
      "156/156 [==============================] - 0s 2ms/step - loss: 0.0859 - accuracy: 0.8051 - val_loss: 0.0977 - val_accuracy: 0.7885\n",
      "Epoch 27/80\n",
      "156/156 [==============================] - 0s 2ms/step - loss: 0.0866 - accuracy: 0.8043 - val_loss: 0.0906 - val_accuracy: 0.8013\n",
      "Epoch 28/80\n",
      "156/156 [==============================] - 0s 2ms/step - loss: 0.0858 - accuracy: 0.8051 - val_loss: 0.0942 - val_accuracy: 0.7842\n",
      "Epoch 29/80\n",
      "156/156 [==============================] - 0s 2ms/step - loss: 0.0865 - accuracy: 0.8047 - val_loss: 0.0926 - val_accuracy: 0.7885\n",
      "Epoch 30/80\n",
      "156/156 [==============================] - 0s 2ms/step - loss: 0.0856 - accuracy: 0.8092 - val_loss: 0.0906 - val_accuracy: 0.7970\n",
      "Epoch 31/80\n",
      "156/156 [==============================] - 0s 2ms/step - loss: 0.0853 - accuracy: 0.8077 - val_loss: 0.0915 - val_accuracy: 0.7927\n",
      "Epoch 32/80\n",
      "156/156 [==============================] - 0s 2ms/step - loss: 0.0851 - accuracy: 0.8104 - val_loss: 0.0944 - val_accuracy: 0.7671\n",
      "Epoch 33/80\n",
      "156/156 [==============================] - 0s 2ms/step - loss: 0.0852 - accuracy: 0.8126 - val_loss: 0.0913 - val_accuracy: 0.7970\n",
      "Epoch 34/80\n",
      "156/156 [==============================] - 0s 2ms/step - loss: 0.0860 - accuracy: 0.8092 - val_loss: 0.0941 - val_accuracy: 0.7778\n",
      "Epoch 35/80\n",
      "156/156 [==============================] - 0s 2ms/step - loss: 0.0850 - accuracy: 0.8058 - val_loss: 0.0899 - val_accuracy: 0.7778\n",
      "Epoch 36/80\n",
      "156/156 [==============================] - 0s 2ms/step - loss: 0.0851 - accuracy: 0.8066 - val_loss: 0.0938 - val_accuracy: 0.7799\n",
      "Epoch 37/80\n",
      "156/156 [==============================] - 0s 2ms/step - loss: 0.0854 - accuracy: 0.8077 - val_loss: 0.0937 - val_accuracy: 0.7885\n",
      "Epoch 38/80\n",
      "156/156 [==============================] - 0s 2ms/step - loss: 0.0846 - accuracy: 0.8107 - val_loss: 0.0929 - val_accuracy: 0.7714\n",
      "Epoch 39/80\n",
      "156/156 [==============================] - 0s 2ms/step - loss: 0.0859 - accuracy: 0.8085 - val_loss: 0.0905 - val_accuracy: 0.8056\n",
      "Epoch 40/80\n",
      "156/156 [==============================] - 0s 2ms/step - loss: 0.0843 - accuracy: 0.8032 - val_loss: 0.0894 - val_accuracy: 0.8034\n",
      "Epoch 41/80\n",
      "156/156 [==============================] - 0s 2ms/step - loss: 0.0863 - accuracy: 0.8047 - val_loss: 0.0938 - val_accuracy: 0.7692\n",
      "Epoch 42/80\n",
      "156/156 [==============================] - 0s 2ms/step - loss: 0.0839 - accuracy: 0.8134 - val_loss: 0.0934 - val_accuracy: 0.7906\n",
      "Epoch 43/80\n",
      "156/156 [==============================] - 0s 2ms/step - loss: 0.0847 - accuracy: 0.8047 - val_loss: 0.0917 - val_accuracy: 0.7970\n",
      "Epoch 44/80\n",
      "156/156 [==============================] - 0s 2ms/step - loss: 0.0842 - accuracy: 0.8100 - val_loss: 0.0902 - val_accuracy: 0.7991\n",
      "Epoch 45/80\n",
      "156/156 [==============================] - 0s 2ms/step - loss: 0.0838 - accuracy: 0.8104 - val_loss: 0.0908 - val_accuracy: 0.7799\n",
      "Epoch 46/80\n",
      "156/156 [==============================] - 0s 2ms/step - loss: 0.0847 - accuracy: 0.8119 - val_loss: 0.0908 - val_accuracy: 0.7949\n",
      "Epoch 47/80\n",
      "156/156 [==============================] - 0s 2ms/step - loss: 0.0833 - accuracy: 0.8134 - val_loss: 0.0892 - val_accuracy: 0.8013\n",
      "Epoch 48/80\n",
      "156/156 [==============================] - 0s 2ms/step - loss: 0.0839 - accuracy: 0.8096 - val_loss: 0.0919 - val_accuracy: 0.7949\n",
      "Epoch 49/80\n",
      "156/156 [==============================] - 0s 3ms/step - loss: 0.0835 - accuracy: 0.8073 - val_loss: 0.0905 - val_accuracy: 0.7756\n",
      "Epoch 50/80\n",
      "156/156 [==============================] - 0s 2ms/step - loss: 0.0834 - accuracy: 0.8122 - val_loss: 0.0893 - val_accuracy: 0.7991\n",
      "Epoch 51/80\n",
      "156/156 [==============================] - 0s 2ms/step - loss: 0.0830 - accuracy: 0.8104 - val_loss: 0.0899 - val_accuracy: 0.7949\n",
      "Epoch 52/80\n",
      "156/156 [==============================] - 0s 2ms/step - loss: 0.0835 - accuracy: 0.8096 - val_loss: 0.0908 - val_accuracy: 0.7970\n",
      "Epoch 53/80\n",
      "156/156 [==============================] - 0s 2ms/step - loss: 0.0832 - accuracy: 0.8096 - val_loss: 0.0906 - val_accuracy: 0.8013\n",
      "Epoch 54/80\n",
      "156/156 [==============================] - 0s 2ms/step - loss: 0.0837 - accuracy: 0.8138 - val_loss: 0.0906 - val_accuracy: 0.7671\n"
     ]
    },
    {
     "name": "stdout",
     "output_type": "stream",
     "text": [
      "Epoch 55/80\n",
      "156/156 [==============================] - 0s 2ms/step - loss: 0.0849 - accuracy: 0.8085 - val_loss: 0.0907 - val_accuracy: 0.7692\n",
      "Epoch 56/80\n",
      "156/156 [==============================] - 0s 2ms/step - loss: 0.0839 - accuracy: 0.8119 - val_loss: 0.0888 - val_accuracy: 0.8077\n",
      "Epoch 57/80\n",
      "156/156 [==============================] - 0s 2ms/step - loss: 0.0830 - accuracy: 0.8100 - val_loss: 0.0905 - val_accuracy: 0.7949\n",
      "Epoch 58/80\n",
      "156/156 [==============================] - 0s 2ms/step - loss: 0.0840 - accuracy: 0.8047 - val_loss: 0.0900 - val_accuracy: 0.7970\n",
      "Epoch 59/80\n",
      "156/156 [==============================] - 0s 2ms/step - loss: 0.0830 - accuracy: 0.8111 - val_loss: 0.0896 - val_accuracy: 0.7970\n",
      "Epoch 60/80\n",
      "156/156 [==============================] - 0s 2ms/step - loss: 0.0834 - accuracy: 0.8122 - val_loss: 0.0910 - val_accuracy: 0.7970\n",
      "Epoch 61/80\n",
      "156/156 [==============================] - 0s 2ms/step - loss: 0.0831 - accuracy: 0.8145 - val_loss: 0.0942 - val_accuracy: 0.7671\n",
      "Epoch 62/80\n",
      "156/156 [==============================] - 0s 2ms/step - loss: 0.0841 - accuracy: 0.8104 - val_loss: 0.0937 - val_accuracy: 0.7885\n",
      "Epoch 63/80\n",
      "156/156 [==============================] - 0s 2ms/step - loss: 0.0827 - accuracy: 0.8115 - val_loss: 0.0895 - val_accuracy: 0.8034\n",
      "Epoch 64/80\n",
      "156/156 [==============================] - 0s 2ms/step - loss: 0.0834 - accuracy: 0.8104 - val_loss: 0.0895 - val_accuracy: 0.7970\n",
      "Epoch 65/80\n",
      "156/156 [==============================] - 0s 2ms/step - loss: 0.0831 - accuracy: 0.8100 - val_loss: 0.0902 - val_accuracy: 0.7970\n",
      "Epoch 66/80\n",
      "156/156 [==============================] - 0s 2ms/step - loss: 0.0829 - accuracy: 0.8183 - val_loss: 0.0907 - val_accuracy: 0.7949\n",
      "Epoch 67/80\n",
      "156/156 [==============================] - 0s 2ms/step - loss: 0.0826 - accuracy: 0.8130 - val_loss: 0.0892 - val_accuracy: 0.7927\n",
      "Epoch 68/80\n",
      "156/156 [==============================] - 0s 2ms/step - loss: 0.0829 - accuracy: 0.8134 - val_loss: 0.0903 - val_accuracy: 0.7692\n",
      "Epoch 69/80\n",
      "156/156 [==============================] - 0s 2ms/step - loss: 0.0831 - accuracy: 0.8115 - val_loss: 0.0896 - val_accuracy: 0.7756\n",
      "Epoch 70/80\n",
      "156/156 [==============================] - 0s 2ms/step - loss: 0.0821 - accuracy: 0.8168 - val_loss: 0.0906 - val_accuracy: 0.7906\n",
      "Epoch 71/80\n",
      "156/156 [==============================] - 0s 2ms/step - loss: 0.0828 - accuracy: 0.8149 - val_loss: 0.0953 - val_accuracy: 0.7585\n",
      "Epoch 72/80\n",
      "156/156 [==============================] - 0s 2ms/step - loss: 0.0828 - accuracy: 0.8115 - val_loss: 0.0888 - val_accuracy: 0.7991\n",
      "Epoch 73/80\n",
      "156/156 [==============================] - 0s 2ms/step - loss: 0.0821 - accuracy: 0.8168 - val_loss: 0.0890 - val_accuracy: 0.8034\n",
      "Epoch 74/80\n",
      "156/156 [==============================] - 0s 2ms/step - loss: 0.0822 - accuracy: 0.8141 - val_loss: 0.0901 - val_accuracy: 0.7927\n",
      "Epoch 75/80\n",
      "156/156 [==============================] - 0s 2ms/step - loss: 0.0824 - accuracy: 0.8179 - val_loss: 0.0904 - val_accuracy: 0.8013\n",
      "Epoch 76/80\n",
      "156/156 [==============================] - 0s 2ms/step - loss: 0.0822 - accuracy: 0.8149 - val_loss: 0.0899 - val_accuracy: 0.7991\n",
      "Epoch 77/80\n",
      "156/156 [==============================] - 0s 2ms/step - loss: 0.0821 - accuracy: 0.8115 - val_loss: 0.0892 - val_accuracy: 0.7991\n",
      "Epoch 78/80\n",
      "156/156 [==============================] - 0s 2ms/step - loss: 0.0822 - accuracy: 0.8145 - val_loss: 0.0905 - val_accuracy: 0.7735\n",
      "Epoch 79/80\n",
      "156/156 [==============================] - 0s 2ms/step - loss: 0.0822 - accuracy: 0.8194 - val_loss: 0.0882 - val_accuracy: 0.8120\n",
      "Epoch 80/80\n",
      "156/156 [==============================] - 0s 2ms/step - loss: 0.0825 - accuracy: 0.8130 - val_loss: 0.0959 - val_accuracy: 0.7885\n"
     ]
    }
   ],
   "source": [
    "epochs_hist = model.fit(X_train, y_train, epochs=80, batch_size=17,  verbose=1, validation_split=0.15)\n"
   ]
  },
  {
   "cell_type": "code",
   "execution_count": 25,
   "id": "bd84b124",
   "metadata": {},
   "outputs": [
    {
     "name": "stdout",
     "output_type": "stream",
     "text": [
      "dict_keys(['loss', 'accuracy', 'val_loss', 'val_accuracy'])\n"
     ]
    }
   ],
   "source": [
    "print(epochs_hist.history.keys())"
   ]
  },
  {
   "cell_type": "code",
   "execution_count": 26,
   "id": "3bc4b8a3",
   "metadata": {
    "scrolled": false
   },
   "outputs": [
    {
     "data": {
      "text/plain": [
       "<matplotlib.legend.Legend at 0x1ea42762980>"
      ]
     },
     "execution_count": 26,
     "metadata": {},
     "output_type": "execute_result"
    },
    {
     "data": {
      "image/png": "[encoded data removed]",
      "text/plain": [
       "<Figure size 640x480 with 1 Axes>"
      ]
     },
     "metadata": {},
     "output_type": "display_data"
    }
   ],
   "source": [
    "plt.plot(epochs_hist.history['accuracy'])\n",
    "plt.plot(epochs_hist.history['val_accuracy'])\n",
    "\n",
    "plt.title('Model accuracy Progression During Training/Validation')\n",
    "plt.ylabel('Training and Validation accuracy')\n",
    "plt.xlabel('Epoch Number')\n",
    "plt.legend(['Training accuracy', 'Validation accuracy'])"
   ]
  },
  {
   "cell_type": "code",
   "execution_count": 27,
   "id": "a760de2d",
   "metadata": {},
   "outputs": [
    {
     "data": {
      "text/plain": [
       "<matplotlib.legend.Legend at 0x1ea43fdab90>"
      ]
     },
     "execution_count": 27,
     "metadata": {},
     "output_type": "execute_result"
    },
    {
     "data": {
      "image/png": "[encoded data removed]",
      "text/plain": [
       "<Figure size 640x480 with 1 Axes>"
      ]
     },
     "metadata": {},
     "output_type": "display_data"
    }
   ],
   "source": [
    "plt.plot(epochs_hist.history['loss'])\n",
    "plt.plot(epochs_hist.history['val_loss'])\n",
    "\n",
    "plt.title('Model Loss Progression During Training/Validation')\n",
    "plt.ylabel('Training and Validation Losses')\n",
    "plt.xlabel('Epoch Number')\n",
    "plt.legend(['Training Loss', 'Validation Loss'])"
   ]
  },
  {
   "cell_type": "code",
   "execution_count": 59,
   "id": "bb206b56",
   "metadata": {},
   "outputs": [
    {
     "data": {
      "text/html": [
       "<div>\n",
       "<style scoped>\n",
       "    .dataframe tbody tr th:only-of-type {\n",
       "        vertical-align: middle;\n",
       "    }\n",
       "\n",
       "    .dataframe tbody tr th {\n",
       "        vertical-align: top;\n",
       "    }\n",
       "\n",
       "    .dataframe thead th {\n",
       "        text-align: right;\n",
       "    }\n",
       "</style>\n",
       "<table border=\"1\" class=\"dataframe\">\n",
       "  <thead>\n",
       "    <tr style=\"text-align: right;\">\n",
       "      <th></th>\n",
       "      <th>cause</th>\n",
       "      <th>place</th>\n",
       "      <th>collision</th>\n",
       "      <th>season</th>\n",
       "      <th>acc_time</th>\n",
       "    </tr>\n",
       "  </thead>\n",
       "  <tbody>\n",
       "    <tr>\n",
       "      <th>0</th>\n",
       "      <td>6</td>\n",
       "      <td>1</td>\n",
       "      <td>5</td>\n",
       "      <td>1</td>\n",
       "      <td>4</td>\n",
       "    </tr>\n",
       "    <tr>\n",
       "      <th>1</th>\n",
       "      <td>8</td>\n",
       "      <td>1</td>\n",
       "      <td>1</td>\n",
       "      <td>1</td>\n",
       "      <td>4</td>\n",
       "    </tr>\n",
       "    <tr>\n",
       "      <th>2</th>\n",
       "      <td>8</td>\n",
       "      <td>1</td>\n",
       "      <td>5</td>\n",
       "      <td>1</td>\n",
       "      <td>4</td>\n",
       "    </tr>\n",
       "    <tr>\n",
       "      <th>3</th>\n",
       "      <td>8</td>\n",
       "      <td>1</td>\n",
       "      <td>1</td>\n",
       "      <td>1</td>\n",
       "      <td>4</td>\n",
       "    </tr>\n",
       "    <tr>\n",
       "      <th>4</th>\n",
       "      <td>8</td>\n",
       "      <td>1</td>\n",
       "      <td>1</td>\n",
       "      <td>1</td>\n",
       "      <td>4</td>\n",
       "    </tr>\n",
       "  </tbody>\n",
       "</table>\n",
       "</div>"
      ],
      "text/plain": [
       "   cause  place  collision  season  acc_time\n",
       "0      6      1          5       1         4\n",
       "1      8      1          1       1         4\n",
       "2      8      1          5       1         4\n",
       "3      8      1          1       1         4\n",
       "4      8      1          1       1         4"
      ]
     },
     "execution_count": 59,
     "metadata": {},
     "output_type": "execute_result"
    }
   ],
   "source": [
    "from sklearn.preprocessing import LabelEncoder\n",
    "\n",
    "severity = LabelEncoder().fit_transform(accident_df.severity.values)\n",
    "data = accident_df.drop(['severity'], axis=1)\n",
    "data.head()"
   ]
  },
  {
   "cell_type": "code",
   "execution_count": 60,
   "id": "2ff6640c",
   "metadata": {},
   "outputs": [],
   "source": [
    "cause = [f\"cause{i}\" for i in accident_df.cause.unique()]\n",
    "place = [f\"place_{i}\" for i in accident_df.place.unique()]\n",
    "collision = [f\"collision_{i}\" for i in accident_df.collision.unique()]\n",
    "season = [f\"season{i}\" for i in accident_df.season.unique()]\n",
    "acc_time = [f\"acc_time{i}\" for i in accident_df.acc_time.unique()]"
   ]
  },
  {
   "cell_type": "code",
   "execution_count": 61,
   "id": "0e73c30f",
   "metadata": {},
   "outputs": [
    {
     "name": "stdout",
     "output_type": "stream",
     "text": [
      "(4154, 25)\n"
     ]
    },
    {
     "data": {
      "text/html": [
       "<div>\n",
       "<style scoped>\n",
       "    .dataframe tbody tr th:only-of-type {\n",
       "        vertical-align: middle;\n",
       "    }\n",
       "\n",
       "    .dataframe tbody tr th {\n",
       "        vertical-align: top;\n",
       "    }\n",
       "\n",
       "    .dataframe thead th {\n",
       "        text-align: right;\n",
       "    }\n",
       "</style>\n",
       "<table border=\"1\" class=\"dataframe\">\n",
       "  <thead>\n",
       "    <tr style=\"text-align: right;\">\n",
       "      <th></th>\n",
       "      <th>cause6</th>\n",
       "      <th>cause8</th>\n",
       "      <th>cause4</th>\n",
       "      <th>cause5</th>\n",
       "      <th>cause3</th>\n",
       "      <th>cause1</th>\n",
       "      <th>cause2</th>\n",
       "      <th>cause9</th>\n",
       "      <th>cause7</th>\n",
       "      <th>place_1</th>\n",
       "      <th>place_2</th>\n",
       "      <th>collision_5</th>\n",
       "      <th>collision_1</th>\n",
       "      <th>collision_3</th>\n",
       "      <th>collision_6</th>\n",
       "      <th>collision_4</th>\n",
       "      <th>collision_2</th>\n",
       "      <th>season1</th>\n",
       "      <th>season2</th>\n",
       "      <th>season3</th>\n",
       "      <th>season4</th>\n",
       "      <th>acc_time4</th>\n",
       "      <th>acc_time3</th>\n",
       "      <th>acc_time2</th>\n",
       "      <th>acc_time1</th>\n",
       "    </tr>\n",
       "  </thead>\n",
       "  <tbody>\n",
       "    <tr>\n",
       "      <th>0</th>\n",
       "      <td>0.0</td>\n",
       "      <td>0.0</td>\n",
       "      <td>0.0</td>\n",
       "      <td>0.0</td>\n",
       "      <td>0.0</td>\n",
       "      <td>1.0</td>\n",
       "      <td>0.0</td>\n",
       "      <td>0.0</td>\n",
       "      <td>0.0</td>\n",
       "      <td>1.0</td>\n",
       "      <td>0.0</td>\n",
       "      <td>0.0</td>\n",
       "      <td>0.0</td>\n",
       "      <td>0.0</td>\n",
       "      <td>0.0</td>\n",
       "      <td>1.0</td>\n",
       "      <td>0.0</td>\n",
       "      <td>1.0</td>\n",
       "      <td>0.0</td>\n",
       "      <td>0.0</td>\n",
       "      <td>0.0</td>\n",
       "      <td>0.0</td>\n",
       "      <td>0.0</td>\n",
       "      <td>0.0</td>\n",
       "      <td>1.0</td>\n",
       "    </tr>\n",
       "    <tr>\n",
       "      <th>1</th>\n",
       "      <td>0.0</td>\n",
       "      <td>0.0</td>\n",
       "      <td>0.0</td>\n",
       "      <td>0.0</td>\n",
       "      <td>0.0</td>\n",
       "      <td>0.0</td>\n",
       "      <td>0.0</td>\n",
       "      <td>1.0</td>\n",
       "      <td>0.0</td>\n",
       "      <td>1.0</td>\n",
       "      <td>0.0</td>\n",
       "      <td>1.0</td>\n",
       "      <td>0.0</td>\n",
       "      <td>0.0</td>\n",
       "      <td>0.0</td>\n",
       "      <td>0.0</td>\n",
       "      <td>0.0</td>\n",
       "      <td>1.0</td>\n",
       "      <td>0.0</td>\n",
       "      <td>0.0</td>\n",
       "      <td>0.0</td>\n",
       "      <td>0.0</td>\n",
       "      <td>0.0</td>\n",
       "      <td>0.0</td>\n",
       "      <td>1.0</td>\n",
       "    </tr>\n",
       "    <tr>\n",
       "      <th>2</th>\n",
       "      <td>0.0</td>\n",
       "      <td>0.0</td>\n",
       "      <td>0.0</td>\n",
       "      <td>0.0</td>\n",
       "      <td>0.0</td>\n",
       "      <td>0.0</td>\n",
       "      <td>0.0</td>\n",
       "      <td>1.0</td>\n",
       "      <td>0.0</td>\n",
       "      <td>1.0</td>\n",
       "      <td>0.0</td>\n",
       "      <td>0.0</td>\n",
       "      <td>0.0</td>\n",
       "      <td>0.0</td>\n",
       "      <td>0.0</td>\n",
       "      <td>1.0</td>\n",
       "      <td>0.0</td>\n",
       "      <td>1.0</td>\n",
       "      <td>0.0</td>\n",
       "      <td>0.0</td>\n",
       "      <td>0.0</td>\n",
       "      <td>0.0</td>\n",
       "      <td>0.0</td>\n",
       "      <td>0.0</td>\n",
       "      <td>1.0</td>\n",
       "    </tr>\n",
       "    <tr>\n",
       "      <th>3</th>\n",
       "      <td>0.0</td>\n",
       "      <td>0.0</td>\n",
       "      <td>0.0</td>\n",
       "      <td>0.0</td>\n",
       "      <td>0.0</td>\n",
       "      <td>0.0</td>\n",
       "      <td>0.0</td>\n",
       "      <td>1.0</td>\n",
       "      <td>0.0</td>\n",
       "      <td>1.0</td>\n",
       "      <td>0.0</td>\n",
       "      <td>1.0</td>\n",
       "      <td>0.0</td>\n",
       "      <td>0.0</td>\n",
       "      <td>0.0</td>\n",
       "      <td>0.0</td>\n",
       "      <td>0.0</td>\n",
       "      <td>1.0</td>\n",
       "      <td>0.0</td>\n",
       "      <td>0.0</td>\n",
       "      <td>0.0</td>\n",
       "      <td>0.0</td>\n",
       "      <td>0.0</td>\n",
       "      <td>0.0</td>\n",
       "      <td>1.0</td>\n",
       "    </tr>\n",
       "    <tr>\n",
       "      <th>4</th>\n",
       "      <td>0.0</td>\n",
       "      <td>0.0</td>\n",
       "      <td>0.0</td>\n",
       "      <td>0.0</td>\n",
       "      <td>0.0</td>\n",
       "      <td>0.0</td>\n",
       "      <td>0.0</td>\n",
       "      <td>1.0</td>\n",
       "      <td>0.0</td>\n",
       "      <td>1.0</td>\n",
       "      <td>0.0</td>\n",
       "      <td>1.0</td>\n",
       "      <td>0.0</td>\n",
       "      <td>0.0</td>\n",
       "      <td>0.0</td>\n",
       "      <td>0.0</td>\n",
       "      <td>0.0</td>\n",
       "      <td>1.0</td>\n",
       "      <td>0.0</td>\n",
       "      <td>0.0</td>\n",
       "      <td>0.0</td>\n",
       "      <td>0.0</td>\n",
       "      <td>0.0</td>\n",
       "      <td>0.0</td>\n",
       "      <td>1.0</td>\n",
       "    </tr>\n",
       "  </tbody>\n",
       "</table>\n",
       "</div>"
      ],
      "text/plain": [
       "   cause6  cause8  cause4  cause5  cause3  cause1  cause2  cause9  cause7  \\\n",
       "0     0.0     0.0     0.0     0.0     0.0     1.0     0.0     0.0     0.0   \n",
       "1     0.0     0.0     0.0     0.0     0.0     0.0     0.0     1.0     0.0   \n",
       "2     0.0     0.0     0.0     0.0     0.0     0.0     0.0     1.0     0.0   \n",
       "3     0.0     0.0     0.0     0.0     0.0     0.0     0.0     1.0     0.0   \n",
       "4     0.0     0.0     0.0     0.0     0.0     0.0     0.0     1.0     0.0   \n",
       "\n",
       "   place_1  place_2  collision_5  collision_1  collision_3  collision_6  \\\n",
       "0      1.0      0.0          0.0          0.0          0.0          0.0   \n",
       "1      1.0      0.0          1.0          0.0          0.0          0.0   \n",
       "2      1.0      0.0          0.0          0.0          0.0          0.0   \n",
       "3      1.0      0.0          1.0          0.0          0.0          0.0   \n",
       "4      1.0      0.0          1.0          0.0          0.0          0.0   \n",
       "\n",
       "   collision_4  collision_2  season1  season2  season3  season4  acc_time4  \\\n",
       "0          1.0          0.0      1.0      0.0      0.0      0.0        0.0   \n",
       "1          0.0          0.0      1.0      0.0      0.0      0.0        0.0   \n",
       "2          1.0          0.0      1.0      0.0      0.0      0.0        0.0   \n",
       "3          0.0          0.0      1.0      0.0      0.0      0.0        0.0   \n",
       "4          0.0          0.0      1.0      0.0      0.0      0.0        0.0   \n",
       "\n",
       "   acc_time3  acc_time2  acc_time1  \n",
       "0        0.0        0.0        1.0  \n",
       "1        0.0        0.0        1.0  \n",
       "2        0.0        0.0        1.0  \n",
       "3        0.0        0.0        1.0  \n",
       "4        0.0        0.0        1.0  "
      ]
     },
     "execution_count": 61,
     "metadata": {},
     "output_type": "execute_result"
    }
   ],
   "source": [
    "from sklearn.preprocessing import OneHotEncoder\n",
    "data[cause] = OneHotEncoder().fit_transform(accident_df.cause.values.reshape(-1, 1)).toarray()\n",
    "data[place] = OneHotEncoder().fit_transform(accident_df.place.values.reshape(-1, 1)).toarray()\n",
    "data[collision] = OneHotEncoder().fit_transform(accident_df.collision.values.reshape(-1, 1)).toarray()\n",
    "data[season] = OneHotEncoder().fit_transform(accident_df.season.values.reshape(-1, 1)).toarray()\n",
    "data[acc_time] = OneHotEncoder().fit_transform(accident_df.acc_time.values.reshape(-1, 1)).toarray()\n",
    "\n",
    "data = data.drop([\"cause\", \"place\", \"collision\", \"season\" , \"acc_time\"], axis=1)\n",
    "print(data.shape)\n",
    "data.head()"
   ]
  },
  {
   "cell_type": "code",
   "execution_count": 62,
   "id": "c542ce14",
   "metadata": {},
   "outputs": [
    {
     "name": "stdout",
     "output_type": "stream",
     "text": [
      "<class 'numpy.ndarray'>\n"
     ]
    }
   ],
   "source": [
    "print(type(y_train))"
   ]
  },
  {
   "cell_type": "code",
   "execution_count": 63,
   "id": "02fe7f59",
   "metadata": {
    "scrolled": true
   },
   "outputs": [
    {
     "name": "stdout",
     "output_type": "stream",
     "text": [
      "(4154, 1, 25)\n"
     ]
    }
   ],
   "source": [
    "severity = tensorflow.one_hot(severity, 3, dtype=tensorflow.int64)\n",
    "ann_data = data.values.reshape(data.shape[0], -1, data.shape[1])\n",
    "print(ann_data.shape)"
   ]
  },
  {
   "cell_type": "code",
   "execution_count": 76,
   "id": "b25f5a55",
   "metadata": {},
   "outputs": [
    {
     "data": {
      "text/plain": [
       "(4154, 25)"
      ]
     },
     "execution_count": 76,
     "metadata": {},
     "output_type": "execute_result"
    }
   ],
   "source": [
    "squeeze_data = np.squeeze(ann_data)\n",
    "squeeze_data.shape"
   ]
  },
  {
   "cell_type": "code",
   "execution_count": 77,
   "id": "d0998c41",
   "metadata": {},
   "outputs": [],
   "source": [
    "targets = np.argmax(severity, -1)\n",
    "features = data.columns.values"
   ]
  },
  {
   "cell_type": "code",
   "execution_count": 78,
   "id": "54dbef1a",
   "metadata": {},
   "outputs": [
    {
     "name": "stdout",
     "output_type": "stream",
     "text": [
      "cause6: -->  Score: 0.04488695236029271\n",
      "cause8: -->  Score: 0.015037082038657532\n",
      "cause4: -->  Score: 0.014205902803493407\n",
      "cause5: -->  Score: 0.01717124295113708\n",
      "cause3: -->  Score: 0.006203073201603925\n",
      "cause1: -->  Score: 0.012905093839520985\n",
      "cause2: -->  Score: 0.009743136317395616\n",
      "cause9: -->  Score: 0.017713426681006745\n",
      "cause7: -->  Score: 0.016911491441435108\n",
      "place_1: -->  Score: 0.012230713426755236\n",
      "place_2: -->  Score: 0.0\n",
      "collision_5: -->  Score: 0.023356341830834758\n",
      "collision_1: -->  Score: 0.03998344088590372\n",
      "collision_3: -->  Score: 0.0067752838362695\n",
      "collision_6: -->  Score: 0.012975449026095836\n",
      "collision_4: -->  Score: 0.19827026913869028\n",
      "collision_2: -->  Score: 0.03515652539042745\n",
      "season1: -->  Score: 0.006783272410262785\n",
      "season2: -->  Score: 0.03081210485094955\n",
      "season3: -->  Score: 0.04837201988516344\n",
      "season4: -->  Score: 0.023561404729160067\n",
      "acc_time4: -->  Score: 0.007730406025743805\n",
      "acc_time3: -->  Score: 0.007754284503481817\n",
      "acc_time2: -->  Score: 0.07994527212267798\n",
      "acc_time1: -->  Score: 0.3115158103030407\n"
     ]
    },
    {
     "data": {
      "image/png": "[encoded data removed]",
      "text/plain": [
       "<Figure size 640x480 with 1 Axes>"
      ]
     },
     "metadata": {},
     "output_type": "display_data"
    }
   ],
   "source": [
    "from sklearn.tree import DecisionTreeClassifier\n",
    "model = DecisionTreeClassifier().fit(squeeze_data, targets)\n",
    "importance = model.feature_importances_\n",
    "for i,v in enumerate(importance):\n",
    "    print(f'{features[i]}: -->  Score: {v}')\n",
    "plt.bar([x for x in range(len(importance))], importance)\n",
    "plt.show()"
   ]
  }
 ],
 "metadata": {
  "kernelspec": {
   "display_name": "Python 3 (ipykernel)",
   "language": "python",
   "name": "python3"
  },
  "language_info": {
   "codemirror_mode": {
    "name": "ipython",
    "version": 3
   },
   "file_extension": ".py",
   "mimetype": "text/x-python",
   "name": "python",
   "nbconvert_exporter": "python",
   "pygments_lexer": "ipython3",
   "version": "3.10.9"
  }
 },
 "nbformat": 4,
 "nbformat_minor": 5
}
